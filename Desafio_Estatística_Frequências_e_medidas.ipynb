{
  "nbformat": 4,
  "nbformat_minor": 0,
  "metadata": {
    "colab": {
      "provenance": [],
      "authorship_tag": "ABX9TyO6/zst+VCzuZMBiikqZanL",
      "include_colab_link": true
    },
    "kernelspec": {
      "name": "python3",
      "display_name": "Python 3"
    },
    "language_info": {
      "name": "python"
    }
  },
  "cells": [
    {
      "cell_type": "markdown",
      "metadata": {
        "id": "view-in-github",
        "colab_type": "text"
      },
      "source": [
        "<a href=\"https://colab.research.google.com/github/adhalya/estatistica-frequencias-medidas/blob/master/Desafio_Estat%C3%ADstica_Frequ%C3%AAncias_e_medidas.ipynb\" target=\"_parent\"><img src=\"https://colab.research.google.com/assets/colab-badge.svg\" alt=\"Open In Colab\"/></a>"
      ]
    },
    {
      "cell_type": "code",
      "execution_count": 1,
      "metadata": {
        "id": "pldvhEqExoiq"
      },
      "outputs": [],
      "source": [
        "### Bibliotecas base\n",
        "import pandas as pd\n",
        "import numpy as np\n",
        "### Bibliotecas para visualizacao de dados\n",
        "import seaborn as sns\n",
        "import matplotlib.pyplot as plt\n",
        "### Bibliotecas para estatística\n",
        "import scipy.stats as stat"
      ]
    },
    {
      "cell_type": "code",
      "source": [
        "# Importando base de dados .json diretamente do github\n",
        "df = pd.read_json('https://raw.githubusercontent.com/adhalya/estatistica-frequencias-medidas/master/enem_2023.json')"
      ],
      "metadata": {
        "id": "Xll5lFKx0mrC"
      },
      "execution_count": 2,
      "outputs": []
    },
    {
      "cell_type": "code",
      "source": [
        "# Visualizando as 5 primeiras linhas da tabela\n",
        "df.head()"
      ],
      "metadata": {
        "colab": {
          "base_uri": "https://localhost:8080/",
          "height": 223
        },
        "id": "Mi2Xoz_00ykR",
        "outputId": "bd6cd348-9273-48e8-f28d-512e8f1cbf10"
      },
      "execution_count": 3,
      "outputs": [
        {
          "output_type": "execute_result",
          "data": {
            "text/plain": [
              "   Linguagens  Ciências humanas  Ciências da natureza  Matemática     Redação  \\\n",
              "0  585.669300        686.512178            390.482473  452.281333  546.371706   \n",
              "1  359.384608        642.084134                   NaN  412.205207  741.825256   \n",
              "2  622.732384        495.510719            443.183580  669.683401  684.515750   \n",
              "3  350.164605        602.041588            413.979810  676.608952  671.237114   \n",
              "4  384.093657        489.249140            609.758123  520.426698  744.375048   \n",
              "\n",
              "     Sexo  \n",
              "0   Homem  \n",
              "1  Mulher  \n",
              "2   Homem  \n",
              "3   Homem  \n",
              "4   Homem  "
            ],
            "text/html": [
              "\n",
              "  <div id=\"df-eff32d4c-c232-45b9-912c-6f7fb2f11204\" class=\"colab-df-container\">\n",
              "    <div>\n",
              "<style scoped>\n",
              "    .dataframe tbody tr th:only-of-type {\n",
              "        vertical-align: middle;\n",
              "    }\n",
              "\n",
              "    .dataframe tbody tr th {\n",
              "        vertical-align: top;\n",
              "    }\n",
              "\n",
              "    .dataframe thead th {\n",
              "        text-align: right;\n",
              "    }\n",
              "</style>\n",
              "<table border=\"1\" class=\"dataframe\">\n",
              "  <thead>\n",
              "    <tr style=\"text-align: right;\">\n",
              "      <th></th>\n",
              "      <th>Linguagens</th>\n",
              "      <th>Ciências humanas</th>\n",
              "      <th>Ciências da natureza</th>\n",
              "      <th>Matemática</th>\n",
              "      <th>Redação</th>\n",
              "      <th>Sexo</th>\n",
              "    </tr>\n",
              "  </thead>\n",
              "  <tbody>\n",
              "    <tr>\n",
              "      <th>0</th>\n",
              "      <td>585.669300</td>\n",
              "      <td>686.512178</td>\n",
              "      <td>390.482473</td>\n",
              "      <td>452.281333</td>\n",
              "      <td>546.371706</td>\n",
              "      <td>Homem</td>\n",
              "    </tr>\n",
              "    <tr>\n",
              "      <th>1</th>\n",
              "      <td>359.384608</td>\n",
              "      <td>642.084134</td>\n",
              "      <td>NaN</td>\n",
              "      <td>412.205207</td>\n",
              "      <td>741.825256</td>\n",
              "      <td>Mulher</td>\n",
              "    </tr>\n",
              "    <tr>\n",
              "      <th>2</th>\n",
              "      <td>622.732384</td>\n",
              "      <td>495.510719</td>\n",
              "      <td>443.183580</td>\n",
              "      <td>669.683401</td>\n",
              "      <td>684.515750</td>\n",
              "      <td>Homem</td>\n",
              "    </tr>\n",
              "    <tr>\n",
              "      <th>3</th>\n",
              "      <td>350.164605</td>\n",
              "      <td>602.041588</td>\n",
              "      <td>413.979810</td>\n",
              "      <td>676.608952</td>\n",
              "      <td>671.237114</td>\n",
              "      <td>Homem</td>\n",
              "    </tr>\n",
              "    <tr>\n",
              "      <th>4</th>\n",
              "      <td>384.093657</td>\n",
              "      <td>489.249140</td>\n",
              "      <td>609.758123</td>\n",
              "      <td>520.426698</td>\n",
              "      <td>744.375048</td>\n",
              "      <td>Homem</td>\n",
              "    </tr>\n",
              "  </tbody>\n",
              "</table>\n",
              "</div>\n",
              "    <div class=\"colab-df-buttons\">\n",
              "\n",
              "  <div class=\"colab-df-container\">\n",
              "    <button class=\"colab-df-convert\" onclick=\"convertToInteractive('df-eff32d4c-c232-45b9-912c-6f7fb2f11204')\"\n",
              "            title=\"Convert this dataframe to an interactive table.\"\n",
              "            style=\"display:none;\">\n",
              "\n",
              "  <svg xmlns=\"http://www.w3.org/2000/svg\" height=\"24px\" viewBox=\"0 -960 960 960\">\n",
              "    <path d=\"M120-120v-720h720v720H120Zm60-500h600v-160H180v160Zm220 220h160v-160H400v160Zm0 220h160v-160H400v160ZM180-400h160v-160H180v160Zm440 0h160v-160H620v160ZM180-180h160v-160H180v160Zm440 0h160v-160H620v160Z\"/>\n",
              "  </svg>\n",
              "    </button>\n",
              "\n",
              "  <style>\n",
              "    .colab-df-container {\n",
              "      display:flex;\n",
              "      gap: 12px;\n",
              "    }\n",
              "\n",
              "    .colab-df-convert {\n",
              "      background-color: #E8F0FE;\n",
              "      border: none;\n",
              "      border-radius: 50%;\n",
              "      cursor: pointer;\n",
              "      display: none;\n",
              "      fill: #1967D2;\n",
              "      height: 32px;\n",
              "      padding: 0 0 0 0;\n",
              "      width: 32px;\n",
              "    }\n",
              "\n",
              "    .colab-df-convert:hover {\n",
              "      background-color: #E2EBFA;\n",
              "      box-shadow: 0px 1px 2px rgba(60, 64, 67, 0.3), 0px 1px 3px 1px rgba(60, 64, 67, 0.15);\n",
              "      fill: #174EA6;\n",
              "    }\n",
              "\n",
              "    .colab-df-buttons div {\n",
              "      margin-bottom: 4px;\n",
              "    }\n",
              "\n",
              "    [theme=dark] .colab-df-convert {\n",
              "      background-color: #3B4455;\n",
              "      fill: #D2E3FC;\n",
              "    }\n",
              "\n",
              "    [theme=dark] .colab-df-convert:hover {\n",
              "      background-color: #434B5C;\n",
              "      box-shadow: 0px 1px 3px 1px rgba(0, 0, 0, 0.15);\n",
              "      filter: drop-shadow(0px 1px 2px rgba(0, 0, 0, 0.3));\n",
              "      fill: #FFFFFF;\n",
              "    }\n",
              "  </style>\n",
              "\n",
              "    <script>\n",
              "      const buttonEl =\n",
              "        document.querySelector('#df-eff32d4c-c232-45b9-912c-6f7fb2f11204 button.colab-df-convert');\n",
              "      buttonEl.style.display =\n",
              "        google.colab.kernel.accessAllowed ? 'block' : 'none';\n",
              "\n",
              "      async function convertToInteractive(key) {\n",
              "        const element = document.querySelector('#df-eff32d4c-c232-45b9-912c-6f7fb2f11204');\n",
              "        const dataTable =\n",
              "          await google.colab.kernel.invokeFunction('convertToInteractive',\n",
              "                                                    [key], {});\n",
              "        if (!dataTable) return;\n",
              "\n",
              "        const docLinkHtml = 'Like what you see? Visit the ' +\n",
              "          '<a target=\"_blank\" href=https://colab.research.google.com/notebooks/data_table.ipynb>data table notebook</a>'\n",
              "          + ' to learn more about interactive tables.';\n",
              "        element.innerHTML = '';\n",
              "        dataTable['output_type'] = 'display_data';\n",
              "        await google.colab.output.renderOutput(dataTable, element);\n",
              "        const docLink = document.createElement('div');\n",
              "        docLink.innerHTML = docLinkHtml;\n",
              "        element.appendChild(docLink);\n",
              "      }\n",
              "    </script>\n",
              "  </div>\n",
              "\n",
              "\n",
              "<div id=\"df-2c2e680f-c0d1-4c1d-8491-d88ef39869b0\">\n",
              "  <button class=\"colab-df-quickchart\" onclick=\"quickchart('df-2c2e680f-c0d1-4c1d-8491-d88ef39869b0')\"\n",
              "            title=\"Suggest charts\"\n",
              "            style=\"display:none;\">\n",
              "\n",
              "<svg xmlns=\"http://www.w3.org/2000/svg\" height=\"24px\"viewBox=\"0 0 24 24\"\n",
              "     width=\"24px\">\n",
              "    <g>\n",
              "        <path d=\"M19 3H5c-1.1 0-2 .9-2 2v14c0 1.1.9 2 2 2h14c1.1 0 2-.9 2-2V5c0-1.1-.9-2-2-2zM9 17H7v-7h2v7zm4 0h-2V7h2v10zm4 0h-2v-4h2v4z\"/>\n",
              "    </g>\n",
              "</svg>\n",
              "  </button>\n",
              "\n",
              "<style>\n",
              "  .colab-df-quickchart {\n",
              "      --bg-color: #E8F0FE;\n",
              "      --fill-color: #1967D2;\n",
              "      --hover-bg-color: #E2EBFA;\n",
              "      --hover-fill-color: #174EA6;\n",
              "      --disabled-fill-color: #AAA;\n",
              "      --disabled-bg-color: #DDD;\n",
              "  }\n",
              "\n",
              "  [theme=dark] .colab-df-quickchart {\n",
              "      --bg-color: #3B4455;\n",
              "      --fill-color: #D2E3FC;\n",
              "      --hover-bg-color: #434B5C;\n",
              "      --hover-fill-color: #FFFFFF;\n",
              "      --disabled-bg-color: #3B4455;\n",
              "      --disabled-fill-color: #666;\n",
              "  }\n",
              "\n",
              "  .colab-df-quickchart {\n",
              "    background-color: var(--bg-color);\n",
              "    border: none;\n",
              "    border-radius: 50%;\n",
              "    cursor: pointer;\n",
              "    display: none;\n",
              "    fill: var(--fill-color);\n",
              "    height: 32px;\n",
              "    padding: 0;\n",
              "    width: 32px;\n",
              "  }\n",
              "\n",
              "  .colab-df-quickchart:hover {\n",
              "    background-color: var(--hover-bg-color);\n",
              "    box-shadow: 0 1px 2px rgba(60, 64, 67, 0.3), 0 1px 3px 1px rgba(60, 64, 67, 0.15);\n",
              "    fill: var(--button-hover-fill-color);\n",
              "  }\n",
              "\n",
              "  .colab-df-quickchart-complete:disabled,\n",
              "  .colab-df-quickchart-complete:disabled:hover {\n",
              "    background-color: var(--disabled-bg-color);\n",
              "    fill: var(--disabled-fill-color);\n",
              "    box-shadow: none;\n",
              "  }\n",
              "\n",
              "  .colab-df-spinner {\n",
              "    border: 2px solid var(--fill-color);\n",
              "    border-color: transparent;\n",
              "    border-bottom-color: var(--fill-color);\n",
              "    animation:\n",
              "      spin 1s steps(1) infinite;\n",
              "  }\n",
              "\n",
              "  @keyframes spin {\n",
              "    0% {\n",
              "      border-color: transparent;\n",
              "      border-bottom-color: var(--fill-color);\n",
              "      border-left-color: var(--fill-color);\n",
              "    }\n",
              "    20% {\n",
              "      border-color: transparent;\n",
              "      border-left-color: var(--fill-color);\n",
              "      border-top-color: var(--fill-color);\n",
              "    }\n",
              "    30% {\n",
              "      border-color: transparent;\n",
              "      border-left-color: var(--fill-color);\n",
              "      border-top-color: var(--fill-color);\n",
              "      border-right-color: var(--fill-color);\n",
              "    }\n",
              "    40% {\n",
              "      border-color: transparent;\n",
              "      border-right-color: var(--fill-color);\n",
              "      border-top-color: var(--fill-color);\n",
              "    }\n",
              "    60% {\n",
              "      border-color: transparent;\n",
              "      border-right-color: var(--fill-color);\n",
              "    }\n",
              "    80% {\n",
              "      border-color: transparent;\n",
              "      border-right-color: var(--fill-color);\n",
              "      border-bottom-color: var(--fill-color);\n",
              "    }\n",
              "    90% {\n",
              "      border-color: transparent;\n",
              "      border-bottom-color: var(--fill-color);\n",
              "    }\n",
              "  }\n",
              "</style>\n",
              "\n",
              "  <script>\n",
              "    async function quickchart(key) {\n",
              "      const quickchartButtonEl =\n",
              "        document.querySelector('#' + key + ' button');\n",
              "      quickchartButtonEl.disabled = true;  // To prevent multiple clicks.\n",
              "      quickchartButtonEl.classList.add('colab-df-spinner');\n",
              "      try {\n",
              "        const charts = await google.colab.kernel.invokeFunction(\n",
              "            'suggestCharts', [key], {});\n",
              "      } catch (error) {\n",
              "        console.error('Error during call to suggestCharts:', error);\n",
              "      }\n",
              "      quickchartButtonEl.classList.remove('colab-df-spinner');\n",
              "      quickchartButtonEl.classList.add('colab-df-quickchart-complete');\n",
              "    }\n",
              "    (() => {\n",
              "      let quickchartButtonEl =\n",
              "        document.querySelector('#df-2c2e680f-c0d1-4c1d-8491-d88ef39869b0 button');\n",
              "      quickchartButtonEl.style.display =\n",
              "        google.colab.kernel.accessAllowed ? 'block' : 'none';\n",
              "    })();\n",
              "  </script>\n",
              "</div>\n",
              "\n",
              "    </div>\n",
              "  </div>\n"
            ],
            "application/vnd.google.colaboratory.intrinsic+json": {
              "type": "dataframe",
              "variable_name": "df",
              "summary": "{\n  \"name\": \"df\",\n  \"rows\": 1000,\n  \"fields\": [\n    {\n      \"column\": \"Linguagens\",\n      \"properties\": {\n        \"dtype\": \"number\",\n        \"std\": 84.00931315971195,\n        \"min\": 287.0,\n        \"max\": 804.4563171927,\n        \"num_unique_values\": 896,\n        \"samples\": [\n          638.5729576994,\n          458.5772735297,\n          469.6368972844\n        ],\n        \"semantic_type\": \"\",\n        \"description\": \"\"\n      }\n    },\n    {\n      \"column\": \"Ci\\u00eancias humanas\",\n      \"properties\": {\n        \"dtype\": \"number\",\n        \"std\": 77.81151916399475,\n        \"min\": 289.9,\n        \"max\": 763.9196954613,\n        \"num_unique_values\": 935,\n        \"samples\": [\n          552.953806862,\n          648.4281845758,\n          519.0714634707\n        ],\n        \"semantic_type\": \"\",\n        \"description\": \"\"\n      }\n    },\n    {\n      \"column\": \"Ci\\u00eancias da natureza\",\n      \"properties\": {\n        \"dtype\": \"number\",\n        \"std\": 78.76040369093829,\n        \"min\": 314.4,\n        \"max\": 802.0045683513,\n        \"num_unique_values\": 821,\n        \"samples\": [\n          472.110329659,\n          468.0927320977,\n          391.1238460543\n        ],\n        \"semantic_type\": \"\",\n        \"description\": \"\"\n      }\n    },\n    {\n      \"column\": \"Matem\\u00e1tica\",\n      \"properties\": {\n        \"dtype\": \"number\",\n        \"std\": 86.64810003261275,\n        \"min\": 319.8,\n        \"max\": 807.8779018921,\n        \"num_unique_values\": 918,\n        \"samples\": [\n          577.6921115123,\n          562.8560894807,\n          464.1971411718\n        ],\n        \"semantic_type\": \"\",\n        \"description\": \"\"\n      }\n    },\n    {\n      \"column\": \"Reda\\u00e7\\u00e3o\",\n      \"properties\": {\n        \"dtype\": \"number\",\n        \"std\": 115.33997244479161,\n        \"min\": 270.8399648605,\n        \"max\": 1000.0,\n        \"num_unique_values\": 860,\n        \"samples\": [\n          482.1791420587,\n          687.1614107203,\n          572.6498716449\n        ],\n        \"semantic_type\": \"\",\n        \"description\": \"\"\n      }\n    },\n    {\n      \"column\": \"Sexo\",\n      \"properties\": {\n        \"dtype\": \"category\",\n        \"num_unique_values\": 3,\n        \"samples\": [\n          \"Homem\",\n          \"Mulher\",\n          \"N\\u00e3o idenficado\"\n        ],\n        \"semantic_type\": \"\",\n        \"description\": \"\"\n      }\n    }\n  ]\n}"
            }
          },
          "metadata": {},
          "execution_count": 3
        }
      ]
    },
    {
      "cell_type": "code",
      "source": [
        "# Compreendendo quais tipos de dados cada coluna possui\n",
        "df.info()"
      ],
      "metadata": {
        "colab": {
          "base_uri": "https://localhost:8080/"
        },
        "id": "ysy0Rrg91GZn",
        "outputId": "53cc9b24-346e-40a2-b6ed-67d87afa5340"
      },
      "execution_count": 4,
      "outputs": [
        {
          "output_type": "stream",
          "name": "stdout",
          "text": [
            "<class 'pandas.core.frame.DataFrame'>\n",
            "Int64Index: 1000 entries, 0 to 999\n",
            "Data columns (total 6 columns):\n",
            " #   Column                Non-Null Count  Dtype  \n",
            "---  ------                --------------  -----  \n",
            " 0   Linguagens            897 non-null    float64\n",
            " 1   Ciências humanas      936 non-null    float64\n",
            " 2   Ciências da natureza  824 non-null    float64\n",
            " 3   Matemática            924 non-null    float64\n",
            " 4   Redação               860 non-null    float64\n",
            " 5   Sexo                  1000 non-null   object \n",
            "dtypes: float64(5), object(1)\n",
            "memory usage: 54.7+ KB\n"
          ]
        }
      ]
    },
    {
      "cell_type": "markdown",
      "source": [
        "1. Qual das disciplinas tem a maior amplitude de nota?"
      ],
      "metadata": {
        "id": "6EHxFxtd38xc"
      }
    },
    {
      "cell_type": "code",
      "source": [
        "# Criando uma função que calcule a amplitude considerando o valor máximo e mínimo e separando nome e valor da maior amplitude\n",
        "def amplitude(df):\n",
        "    amplitude_valores = df.max(numeric_only=True) - df.min(numeric_only=True)\n",
        "    maior_amplitude_nome = amplitude_valores.idxmax()  # Nome da coluna com a maior amplitude\n",
        "    maior_amplitude_valor = amplitude_valores.max()    # Valor da maior amplitude\n",
        "\n",
        "    # Arredondando o valor da maior amplitude\n",
        "    maior_amplitude_valor_arredondado = round(maior_amplitude_valor, 2)\n",
        "\n",
        "    # Imprime o nome e o valor da maior amplitude\n",
        "    print(\"A maior amplitude é da disciplina \"+ str(maior_amplitude_nome) +\" com o valor de: \" + str(maior_amplitude_valor_arredondado))\n",
        "\n",
        "    # Chamando a função\n",
        "amplitude(df)"
      ],
      "metadata": {
        "id": "3t9xoQTP1ukJ",
        "colab": {
          "base_uri": "https://localhost:8080/"
        },
        "outputId": "c75e5d1d-5284-467a-ac7b-70b4a9be8453"
      },
      "execution_count": 5,
      "outputs": [
        {
          "output_type": "stream",
          "name": "stdout",
          "text": [
            "A maior amplitude é da disciplina Redação com o valor de: 729.16\n"
          ]
        }
      ]
    },
    {
      "cell_type": "markdown",
      "source": [
        "2. Qual é a média e a mediana para cada uma das disciplinas? (Lembre-se\n",
        "de remover todos os valores nulos quando considerar a mediana)"
      ],
      "metadata": {
        "id": "uVWtP8BjBZPL"
      }
    },
    {
      "cell_type": "code",
      "source": [
        "# Calculando a média\n",
        "medias = df.mean(numeric_only=True)\n",
        "medias_arredondado = round(medias, 2)\n",
        "\n",
        "# Calculando a mediana\n",
        "mediana = df.median(skipna=True, numeric_only=True)\n",
        "mediana_arredondado = round(mediana, 2)\n",
        "\n",
        "# Transformando os resultados em um dataframe\n",
        "df_media_mediana = pd.DataFrame({'Média': medias_arredondado, 'Mediana': mediana_arredondado})\n",
        "\n",
        "# Imprimindo o dataframe\n",
        "df_media_mediana\n",
        "\n"
      ],
      "metadata": {
        "id": "W-Xfs-_LBfae",
        "colab": {
          "base_uri": "https://localhost:8080/",
          "height": 206
        },
        "outputId": "06561c6b-d7c9-4d3e-ac89-9c6a33766364"
      },
      "execution_count": 6,
      "outputs": [
        {
          "output_type": "execute_result",
          "data": {
            "text/plain": [
              "                       Média  Mediana\n",
              "Linguagens            514.52   515.05\n",
              "Ciências humanas      527.04   524.52\n",
              "Ciências da natureza  499.32   500.48\n",
              "Matemática            535.97   533.25\n",
              "Redação               637.78   635.27"
            ],
            "text/html": [
              "\n",
              "  <div id=\"df-9d0d1ee7-eb84-4188-8e4e-ad5c9f009f18\" class=\"colab-df-container\">\n",
              "    <div>\n",
              "<style scoped>\n",
              "    .dataframe tbody tr th:only-of-type {\n",
              "        vertical-align: middle;\n",
              "    }\n",
              "\n",
              "    .dataframe tbody tr th {\n",
              "        vertical-align: top;\n",
              "    }\n",
              "\n",
              "    .dataframe thead th {\n",
              "        text-align: right;\n",
              "    }\n",
              "</style>\n",
              "<table border=\"1\" class=\"dataframe\">\n",
              "  <thead>\n",
              "    <tr style=\"text-align: right;\">\n",
              "      <th></th>\n",
              "      <th>Média</th>\n",
              "      <th>Mediana</th>\n",
              "    </tr>\n",
              "  </thead>\n",
              "  <tbody>\n",
              "    <tr>\n",
              "      <th>Linguagens</th>\n",
              "      <td>514.52</td>\n",
              "      <td>515.05</td>\n",
              "    </tr>\n",
              "    <tr>\n",
              "      <th>Ciências humanas</th>\n",
              "      <td>527.04</td>\n",
              "      <td>524.52</td>\n",
              "    </tr>\n",
              "    <tr>\n",
              "      <th>Ciências da natureza</th>\n",
              "      <td>499.32</td>\n",
              "      <td>500.48</td>\n",
              "    </tr>\n",
              "    <tr>\n",
              "      <th>Matemática</th>\n",
              "      <td>535.97</td>\n",
              "      <td>533.25</td>\n",
              "    </tr>\n",
              "    <tr>\n",
              "      <th>Redação</th>\n",
              "      <td>637.78</td>\n",
              "      <td>635.27</td>\n",
              "    </tr>\n",
              "  </tbody>\n",
              "</table>\n",
              "</div>\n",
              "    <div class=\"colab-df-buttons\">\n",
              "\n",
              "  <div class=\"colab-df-container\">\n",
              "    <button class=\"colab-df-convert\" onclick=\"convertToInteractive('df-9d0d1ee7-eb84-4188-8e4e-ad5c9f009f18')\"\n",
              "            title=\"Convert this dataframe to an interactive table.\"\n",
              "            style=\"display:none;\">\n",
              "\n",
              "  <svg xmlns=\"http://www.w3.org/2000/svg\" height=\"24px\" viewBox=\"0 -960 960 960\">\n",
              "    <path d=\"M120-120v-720h720v720H120Zm60-500h600v-160H180v160Zm220 220h160v-160H400v160Zm0 220h160v-160H400v160ZM180-400h160v-160H180v160Zm440 0h160v-160H620v160ZM180-180h160v-160H180v160Zm440 0h160v-160H620v160Z\"/>\n",
              "  </svg>\n",
              "    </button>\n",
              "\n",
              "  <style>\n",
              "    .colab-df-container {\n",
              "      display:flex;\n",
              "      gap: 12px;\n",
              "    }\n",
              "\n",
              "    .colab-df-convert {\n",
              "      background-color: #E8F0FE;\n",
              "      border: none;\n",
              "      border-radius: 50%;\n",
              "      cursor: pointer;\n",
              "      display: none;\n",
              "      fill: #1967D2;\n",
              "      height: 32px;\n",
              "      padding: 0 0 0 0;\n",
              "      width: 32px;\n",
              "    }\n",
              "\n",
              "    .colab-df-convert:hover {\n",
              "      background-color: #E2EBFA;\n",
              "      box-shadow: 0px 1px 2px rgba(60, 64, 67, 0.3), 0px 1px 3px 1px rgba(60, 64, 67, 0.15);\n",
              "      fill: #174EA6;\n",
              "    }\n",
              "\n",
              "    .colab-df-buttons div {\n",
              "      margin-bottom: 4px;\n",
              "    }\n",
              "\n",
              "    [theme=dark] .colab-df-convert {\n",
              "      background-color: #3B4455;\n",
              "      fill: #D2E3FC;\n",
              "    }\n",
              "\n",
              "    [theme=dark] .colab-df-convert:hover {\n",
              "      background-color: #434B5C;\n",
              "      box-shadow: 0px 1px 3px 1px rgba(0, 0, 0, 0.15);\n",
              "      filter: drop-shadow(0px 1px 2px rgba(0, 0, 0, 0.3));\n",
              "      fill: #FFFFFF;\n",
              "    }\n",
              "  </style>\n",
              "\n",
              "    <script>\n",
              "      const buttonEl =\n",
              "        document.querySelector('#df-9d0d1ee7-eb84-4188-8e4e-ad5c9f009f18 button.colab-df-convert');\n",
              "      buttonEl.style.display =\n",
              "        google.colab.kernel.accessAllowed ? 'block' : 'none';\n",
              "\n",
              "      async function convertToInteractive(key) {\n",
              "        const element = document.querySelector('#df-9d0d1ee7-eb84-4188-8e4e-ad5c9f009f18');\n",
              "        const dataTable =\n",
              "          await google.colab.kernel.invokeFunction('convertToInteractive',\n",
              "                                                    [key], {});\n",
              "        if (!dataTable) return;\n",
              "\n",
              "        const docLinkHtml = 'Like what you see? Visit the ' +\n",
              "          '<a target=\"_blank\" href=https://colab.research.google.com/notebooks/data_table.ipynb>data table notebook</a>'\n",
              "          + ' to learn more about interactive tables.';\n",
              "        element.innerHTML = '';\n",
              "        dataTable['output_type'] = 'display_data';\n",
              "        await google.colab.output.renderOutput(dataTable, element);\n",
              "        const docLink = document.createElement('div');\n",
              "        docLink.innerHTML = docLinkHtml;\n",
              "        element.appendChild(docLink);\n",
              "      }\n",
              "    </script>\n",
              "  </div>\n",
              "\n",
              "\n",
              "<div id=\"df-b16dddcc-05b8-4e76-8998-0f8cfed819d4\">\n",
              "  <button class=\"colab-df-quickchart\" onclick=\"quickchart('df-b16dddcc-05b8-4e76-8998-0f8cfed819d4')\"\n",
              "            title=\"Suggest charts\"\n",
              "            style=\"display:none;\">\n",
              "\n",
              "<svg xmlns=\"http://www.w3.org/2000/svg\" height=\"24px\"viewBox=\"0 0 24 24\"\n",
              "     width=\"24px\">\n",
              "    <g>\n",
              "        <path d=\"M19 3H5c-1.1 0-2 .9-2 2v14c0 1.1.9 2 2 2h14c1.1 0 2-.9 2-2V5c0-1.1-.9-2-2-2zM9 17H7v-7h2v7zm4 0h-2V7h2v10zm4 0h-2v-4h2v4z\"/>\n",
              "    </g>\n",
              "</svg>\n",
              "  </button>\n",
              "\n",
              "<style>\n",
              "  .colab-df-quickchart {\n",
              "      --bg-color: #E8F0FE;\n",
              "      --fill-color: #1967D2;\n",
              "      --hover-bg-color: #E2EBFA;\n",
              "      --hover-fill-color: #174EA6;\n",
              "      --disabled-fill-color: #AAA;\n",
              "      --disabled-bg-color: #DDD;\n",
              "  }\n",
              "\n",
              "  [theme=dark] .colab-df-quickchart {\n",
              "      --bg-color: #3B4455;\n",
              "      --fill-color: #D2E3FC;\n",
              "      --hover-bg-color: #434B5C;\n",
              "      --hover-fill-color: #FFFFFF;\n",
              "      --disabled-bg-color: #3B4455;\n",
              "      --disabled-fill-color: #666;\n",
              "  }\n",
              "\n",
              "  .colab-df-quickchart {\n",
              "    background-color: var(--bg-color);\n",
              "    border: none;\n",
              "    border-radius: 50%;\n",
              "    cursor: pointer;\n",
              "    display: none;\n",
              "    fill: var(--fill-color);\n",
              "    height: 32px;\n",
              "    padding: 0;\n",
              "    width: 32px;\n",
              "  }\n",
              "\n",
              "  .colab-df-quickchart:hover {\n",
              "    background-color: var(--hover-bg-color);\n",
              "    box-shadow: 0 1px 2px rgba(60, 64, 67, 0.3), 0 1px 3px 1px rgba(60, 64, 67, 0.15);\n",
              "    fill: var(--button-hover-fill-color);\n",
              "  }\n",
              "\n",
              "  .colab-df-quickchart-complete:disabled,\n",
              "  .colab-df-quickchart-complete:disabled:hover {\n",
              "    background-color: var(--disabled-bg-color);\n",
              "    fill: var(--disabled-fill-color);\n",
              "    box-shadow: none;\n",
              "  }\n",
              "\n",
              "  .colab-df-spinner {\n",
              "    border: 2px solid var(--fill-color);\n",
              "    border-color: transparent;\n",
              "    border-bottom-color: var(--fill-color);\n",
              "    animation:\n",
              "      spin 1s steps(1) infinite;\n",
              "  }\n",
              "\n",
              "  @keyframes spin {\n",
              "    0% {\n",
              "      border-color: transparent;\n",
              "      border-bottom-color: var(--fill-color);\n",
              "      border-left-color: var(--fill-color);\n",
              "    }\n",
              "    20% {\n",
              "      border-color: transparent;\n",
              "      border-left-color: var(--fill-color);\n",
              "      border-top-color: var(--fill-color);\n",
              "    }\n",
              "    30% {\n",
              "      border-color: transparent;\n",
              "      border-left-color: var(--fill-color);\n",
              "      border-top-color: var(--fill-color);\n",
              "      border-right-color: var(--fill-color);\n",
              "    }\n",
              "    40% {\n",
              "      border-color: transparent;\n",
              "      border-right-color: var(--fill-color);\n",
              "      border-top-color: var(--fill-color);\n",
              "    }\n",
              "    60% {\n",
              "      border-color: transparent;\n",
              "      border-right-color: var(--fill-color);\n",
              "    }\n",
              "    80% {\n",
              "      border-color: transparent;\n",
              "      border-right-color: var(--fill-color);\n",
              "      border-bottom-color: var(--fill-color);\n",
              "    }\n",
              "    90% {\n",
              "      border-color: transparent;\n",
              "      border-bottom-color: var(--fill-color);\n",
              "    }\n",
              "  }\n",
              "</style>\n",
              "\n",
              "  <script>\n",
              "    async function quickchart(key) {\n",
              "      const quickchartButtonEl =\n",
              "        document.querySelector('#' + key + ' button');\n",
              "      quickchartButtonEl.disabled = true;  // To prevent multiple clicks.\n",
              "      quickchartButtonEl.classList.add('colab-df-spinner');\n",
              "      try {\n",
              "        const charts = await google.colab.kernel.invokeFunction(\n",
              "            'suggestCharts', [key], {});\n",
              "      } catch (error) {\n",
              "        console.error('Error during call to suggestCharts:', error);\n",
              "      }\n",
              "      quickchartButtonEl.classList.remove('colab-df-spinner');\n",
              "      quickchartButtonEl.classList.add('colab-df-quickchart-complete');\n",
              "    }\n",
              "    (() => {\n",
              "      let quickchartButtonEl =\n",
              "        document.querySelector('#df-b16dddcc-05b8-4e76-8998-0f8cfed819d4 button');\n",
              "      quickchartButtonEl.style.display =\n",
              "        google.colab.kernel.accessAllowed ? 'block' : 'none';\n",
              "    })();\n",
              "  </script>\n",
              "</div>\n",
              "\n",
              "  <div id=\"id_fa0556b9-eb63-4cfd-afcd-33653176c4a8\">\n",
              "    <style>\n",
              "      .colab-df-generate {\n",
              "        background-color: #E8F0FE;\n",
              "        border: none;\n",
              "        border-radius: 50%;\n",
              "        cursor: pointer;\n",
              "        display: none;\n",
              "        fill: #1967D2;\n",
              "        height: 32px;\n",
              "        padding: 0 0 0 0;\n",
              "        width: 32px;\n",
              "      }\n",
              "\n",
              "      .colab-df-generate:hover {\n",
              "        background-color: #E2EBFA;\n",
              "        box-shadow: 0px 1px 2px rgba(60, 64, 67, 0.3), 0px 1px 3px 1px rgba(60, 64, 67, 0.15);\n",
              "        fill: #174EA6;\n",
              "      }\n",
              "\n",
              "      [theme=dark] .colab-df-generate {\n",
              "        background-color: #3B4455;\n",
              "        fill: #D2E3FC;\n",
              "      }\n",
              "\n",
              "      [theme=dark] .colab-df-generate:hover {\n",
              "        background-color: #434B5C;\n",
              "        box-shadow: 0px 1px 3px 1px rgba(0, 0, 0, 0.15);\n",
              "        filter: drop-shadow(0px 1px 2px rgba(0, 0, 0, 0.3));\n",
              "        fill: #FFFFFF;\n",
              "      }\n",
              "    </style>\n",
              "    <button class=\"colab-df-generate\" onclick=\"generateWithVariable('df_media_mediana')\"\n",
              "            title=\"Generate code using this dataframe.\"\n",
              "            style=\"display:none;\">\n",
              "\n",
              "  <svg xmlns=\"http://www.w3.org/2000/svg\" height=\"24px\"viewBox=\"0 0 24 24\"\n",
              "       width=\"24px\">\n",
              "    <path d=\"M7,19H8.4L18.45,9,17,7.55,7,17.6ZM5,21V16.75L18.45,3.32a2,2,0,0,1,2.83,0l1.4,1.43a1.91,1.91,0,0,1,.58,1.4,1.91,1.91,0,0,1-.58,1.4L9.25,21ZM18.45,9,17,7.55Zm-12,3A5.31,5.31,0,0,0,4.9,8.1,5.31,5.31,0,0,0,1,6.5,5.31,5.31,0,0,0,4.9,4.9,5.31,5.31,0,0,0,6.5,1,5.31,5.31,0,0,0,8.1,4.9,5.31,5.31,0,0,0,12,6.5,5.46,5.46,0,0,0,6.5,12Z\"/>\n",
              "  </svg>\n",
              "    </button>\n",
              "    <script>\n",
              "      (() => {\n",
              "      const buttonEl =\n",
              "        document.querySelector('#id_fa0556b9-eb63-4cfd-afcd-33653176c4a8 button.colab-df-generate');\n",
              "      buttonEl.style.display =\n",
              "        google.colab.kernel.accessAllowed ? 'block' : 'none';\n",
              "\n",
              "      buttonEl.onclick = () => {\n",
              "        google.colab.notebook.generateWithVariable('df_media_mediana');\n",
              "      }\n",
              "      })();\n",
              "    </script>\n",
              "  </div>\n",
              "\n",
              "    </div>\n",
              "  </div>\n"
            ],
            "application/vnd.google.colaboratory.intrinsic+json": {
              "type": "dataframe",
              "variable_name": "df_media_mediana",
              "summary": "{\n  \"name\": \"df_media_mediana\",\n  \"rows\": 5,\n  \"fields\": [\n    {\n      \"column\": \"M\\u00e9dia\",\n      \"properties\": {\n        \"dtype\": \"number\",\n        \"std\": 54.78689697363777,\n        \"min\": 499.32,\n        \"max\": 637.78,\n        \"num_unique_values\": 5,\n        \"samples\": [\n          527.04,\n          637.78,\n          499.32\n        ],\n        \"semantic_type\": \"\",\n        \"description\": \"\"\n      }\n    },\n    {\n      \"column\": \"Mediana\",\n      \"properties\": {\n        \"dtype\": \"number\",\n        \"std\": 53.69173521129672,\n        \"min\": 500.48,\n        \"max\": 635.27,\n        \"num_unique_values\": 5,\n        \"samples\": [\n          524.52,\n          635.27,\n          500.48\n        ],\n        \"semantic_type\": \"\",\n        \"description\": \"\"\n      }\n    }\n  ]\n}"
            }
          },
          "metadata": {},
          "execution_count": 6
        }
      ]
    },
    {
      "cell_type": "markdown",
      "source": [
        "3. Considerando o curso de Ciência da Computação da UFPE, onde o peso de cada uma das disciplinas ponderado é:\n",
        "\n",
        "    a. Redação - 2\n",
        "\n",
        "    b. Matemática e suas Tecnologias - 4\n",
        "\n",
        "    c. Linguagens, Códigos e suas Tecnologias - 2\n",
        "\n",
        "    d. Ciências Humanas e suas Tecnologias - 1\n",
        "\n",
        "    e. Ciências da Natureza e suas Tecnologias - 1\n",
        "\n",
        "    Qual o desvio padrão e média das notas dos 500 estudantes mais bem colocados considerando esses pesos?"
      ],
      "metadata": {
        "id": "si-Z_jxUWWsM"
      }
    },
    {
      "cell_type": "code",
      "source": [
        "pesos = {'Linguagens': 2, 'Ciências humanas': 1 , 'Ciências da natureza': 1, 'Matemática': 4, 'Redação': 2}\n",
        "\n",
        "# Calculando a média ponderada de uma linha\n",
        "def calcular_media_ponderada(linha, pesos):\n",
        "    total = sum(linha[col] * pesos[col] for col in pesos.keys())  # Somando a Multiplicação de valores * Pesos\n",
        "    peso_total = sum(pesos[col] for col in pesos.keys())          # Somando o Peso\n",
        "    return total / peso_total # Finalizando o cálculo com a divisão\n",
        "\n",
        "# Calculando a média ponderada de cada estudante\n",
        "df['Media_Ponderada'] = df.apply(calcular_media_ponderada, args=(pesos,), axis=1)\n",
        "\n",
        "# Ordena o DataFrame pela média ponderada e seleciona os top 500\n",
        "df_top_500 = df.nlargest(500, 'Media_Ponderada')\n",
        "\n",
        "# Calcula a média e o desvio padrão das notas dos 500 estudantes mais bem colocados\n",
        "media = df_top_500['Media_Ponderada'].mean()\n",
        "desvio_padrao = df_top_500['Media_Ponderada'].std()\n",
        "\n",
        "print(f'O desvio padrão dos 500 estudantes mais bem colocados é {desvio_padrao:.2f} e a média é {media:.2f}.')"
      ],
      "metadata": {
        "colab": {
          "base_uri": "https://localhost:8080/"
        },
        "id": "8sa7b16Xiej2",
        "outputId": "9a843092-419e-458f-de28-753472d7a541"
      },
      "execution_count": 13,
      "outputs": [
        {
          "output_type": "stream",
          "name": "stdout",
          "text": [
            "O desvio padrão dos 500 estudantes mais bem colocados é 40.44 e a média é 557.29.\n"
          ]
        }
      ]
    },
    {
      "cell_type": "markdown",
      "source": [
        "4. Se todos esses estudantes aplicassem para ciência da computação e existem apenas 40 vagas, qual seria a variância e média da nota dos estudantes que entraram no curso de ciência da computação?"
      ],
      "metadata": {
        "id": "7esNovY2li0T"
      }
    },
    {
      "cell_type": "code",
      "source": [
        "# Calculando a média e o desvio padrão das notas dos 40 estudantes que entraram no curso de ciência da computação\n",
        "media_ciencia_computacao = df_top_500.head(40)['Media_Ponderada'].mean() # Seleciona os 40 primeiros dos 500 da média ponderada e calcula a média\n",
        "variancia_ciencia_computacao = df_top_500.head(40)['Media_Ponderada'].var() # Seleciona os 40 primeiros dos 500 da média ponderada e calcula a variância\n",
        "\n",
        "print(f'A variância da nota dos 40 alunos que ingressaram em Ciência da Computação é de {variancia_ciencia_computacao:.2f} e a média da nota é de {media_ciencia_computacao:.2f}.')"
      ],
      "metadata": {
        "id": "vYH-qm2tlnTA",
        "colab": {
          "base_uri": "https://localhost:8080/"
        },
        "outputId": "2c374e16-c172-4ed2-9fea-7d083ae8dd10"
      },
      "execution_count": 16,
      "outputs": [
        {
          "output_type": "stream",
          "name": "stdout",
          "text": [
            "A variância da nota dos 40 alunos que ingressaram em Ciência da Computação é de 295.77 e a média da nota é de 636.68.\n"
          ]
        }
      ]
    },
    {
      "cell_type": "markdown",
      "source": [
        "5. Qual o valor do teto do terceiro quartil para as disciplinas de\n",
        "matemática e linguagens?"
      ],
      "metadata": {
        "id": "RRFDaihBoqKI"
      }
    },
    {
      "cell_type": "code",
      "source": [
        "# Calculando o 3º quartil com o método quantile\n",
        "terceiro_q_matematica = df['Matemática'].quantile(0.75)\n",
        "terceiro_q_linguagens = df['Linguagens'].quantile(0.75)\n",
        "\n",
        "# Imprimindo o teto do 3º quartil, ou seja o valor inteiro mais próximo:D\n",
        "print(f'O teto do terceiro quartil da disciplina de Matemática é {terceiro_q_matematica:.0f}.')\n",
        "print(f'O teto do terceiro quartil da disciplina de Linguagens é {terceiro_q_linguagens:.0f}.')"
      ],
      "metadata": {
        "id": "WMo7WffGot1J",
        "colab": {
          "base_uri": "https://localhost:8080/"
        },
        "outputId": "d9f9f282-c13e-4ebf-a754-1c8302cbbbde"
      },
      "execution_count": 33,
      "outputs": [
        {
          "output_type": "stream",
          "name": "stdout",
          "text": [
            "O teto do terceiro quartil da disciplina de Matemática é 593.\n",
            "O teto do terceiro quartil da disciplina de Linguagens é 572.\n"
          ]
        }
      ]
    },
    {
      "cell_type": "markdown",
      "source": [
        "6. Faça o histograma de Redação e Linguagens, de 20 em 20 pontos.\n",
        "Podemos dizer que são histogramas simétricos, justifique e classifique se não assimétricas?"
      ],
      "metadata": {
        "id": "phouohdEouSH"
      }
    },
    {
      "cell_type": "code",
      "source": [],
      "metadata": {
        "id": "uG52ZoFWoxb6"
      },
      "execution_count": null,
      "outputs": []
    },
    {
      "cell_type": "markdown",
      "source": [
        "7. Agora coloque um range fixo de 0 até 1000, você ainda tem a mesma opinião quanto a simetria? [plt.hist(dado, bins=_, range=[0, 1000])"
      ],
      "metadata": {
        "id": "pOABwggco7SP"
      }
    },
    {
      "cell_type": "code",
      "source": [],
      "metadata": {
        "id": "alPCe-1opAFL"
      },
      "execution_count": null,
      "outputs": []
    },
    {
      "cell_type": "markdown",
      "source": [
        "8. Faça um boxplot do quartil de todas as disciplinas de ciências da\n",
        "natureza e redação. É possível enxergar outliers? Utilize o método IQR."
      ],
      "metadata": {
        "id": "BxOHhO38pA2o"
      }
    },
    {
      "cell_type": "code",
      "source": [],
      "metadata": {
        "id": "vnlaW-eipEw_"
      },
      "execution_count": null,
      "outputs": []
    },
    {
      "cell_type": "markdown",
      "source": [
        "9. Remova todos os outliers e verifique se eles são passíveis de alterar a\n",
        "média nacional significativamente? (considere significativamente um\n",
        "valor acima de 5%)"
      ],
      "metadata": {
        "id": "QHgxtE3QpFEF"
      }
    },
    {
      "cell_type": "code",
      "source": [],
      "metadata": {
        "id": "LorUFtnlpH-O"
      },
      "execution_count": null,
      "outputs": []
    },
    {
      "cell_type": "markdown",
      "source": [
        "10. Considerando valores nulos, tente encontrar qual seria a melhor medida\n",
        "de tendência que pode substituir as notas nulas. Média, moda ou\n",
        "mediana? Substitua o valor por todos os três e diga qual delas altera\n",
        "menos a média geral e o desvio padrão."
      ],
      "metadata": {
        "id": "eFNHThR7pIRF"
      }
    },
    {
      "cell_type": "code",
      "source": [],
      "metadata": {
        "id": "ppJXGWPxpKoa"
      },
      "execution_count": null,
      "outputs": []
    }
  ]
}